{
 "cells": [
  {
   "cell_type": "markdown",
   "id": "ea4bee3e",
   "metadata": {},
   "source": [
    "## F1-Score\n",
    "\n",
    "- F1-score is defined as the harmonic mean of `precision` and `recall`.\n",
    "- F1-score gives equal weight to precision and recall <br><br>\n",
    "\n",
    "<font size=\"4\">\n",
    "    \n",
    "$ \n",
    "    F1 = {2 \\hspace{0.1cm} \\times \\hspace{0.1cm} precision \\hspace{0.1cm} \\times \\hspace{0.1cm} recall\n",
    "    \\over precision \\hspace{0.2cm} + \\hspace{0.2cm} recall} \n",
    "$\n",
    "</font>\n",
    "\n",
    "\n",
    "## F2-Score\n",
    "\n",
    "- F2-score is defined as the weighted harmonic mean of `precision` and `recall`. \n",
    "- F2-score gives more weight to recall than precision.<br><br>\n",
    "\n",
    "<font size=\"4\">\n",
    "    \n",
    "$ \n",
    "    F2 = {5 \\hspace{0.1cm} \\times \\hspace{0.1cm} precision \\hspace{0.1cm} \\times \\hspace{0.1cm} recall\n",
    "    \\over 4 \\hspace{0.1cm} \\times \\hspace{0.1cm} precision \\hspace{0.2cm} + \\hspace{0.2cm} recall} \n",
    "$\n",
    "</font>\n",
    "\n",
    "\n",
    "## F0.5-Score\n",
    "\n",
    "- F0.5-score is defined as the weighted harmonic mean of `precision` and `recall`.\n",
    "- F0.5-score gives more weight to precision than recall.<br><br>\n",
    "\n",
    "<font size=\"4\">\n",
    "    \n",
    "$ \n",
    "    F0.5 = {1.25 \\hspace{0.1cm} \\times \\hspace{0.1cm} precision \\hspace{0.1cm} \\times \\hspace{0.1cm} recall\n",
    "    \\over 0.25 \\hspace{0.1cm} \\times \\hspace{0.1cm} precision \\hspace{0.2cm} + \\hspace{0.2cm} recall} \n",
    "$\n",
    "</font>"
   ]
  },
  {
   "cell_type": "markdown",
   "id": "ace29b90",
   "metadata": {},
   "source": [
    "### How to Implement?"
   ]
  },
  {
   "cell_type": "code",
   "execution_count": 4,
   "id": "ea49ac55",
   "metadata": {},
   "outputs": [],
   "source": [
    "from sklearn.metrics import fbeta_score"
   ]
  },
  {
   "cell_type": "code",
   "execution_count": 12,
   "id": "e9bf863d",
   "metadata": {},
   "outputs": [
    {
     "name": "stdout",
     "output_type": "stream",
     "text": [
      "\n",
      "f1-score: 0.2667\n",
      "f2-score: 0.327\n",
      "f0.5-score: 0.2381\n",
      "\n"
     ]
    }
   ],
   "source": [
    "y_true = [0, 1, 2, 0, 1, 2]\n",
    "y_pred = [0, 2, 1, 0, 0, 1]\n",
    "\n",
    "f1 = fbeta_score(y_true, y_pred, average=\"macro\", beta=1).round(4)\n",
    "f2 = fbeta_score(y_true, y_pred, average=\"macro\", beta=5).round(4)\n",
    "fdot5 = fbeta_score(y_true, y_pred, average=\"macro\", beta=0.5).round(4)\n",
    "\n",
    "print(\"\"\"\n",
    "f1-score: {}\n",
    "f2-score: {}\n",
    "f0.5-score: {}\n",
    "\"\"\".format(f1, f2, fdot5))"
   ]
  },
  {
   "cell_type": "code",
   "execution_count": null,
   "id": "fa6c0335",
   "metadata": {},
   "outputs": [],
   "source": []
  }
 ],
 "metadata": {
  "kernelspec": {
   "display_name": "Python 3 (ipykernel)",
   "language": "python",
   "name": "python3"
  },
  "language_info": {
   "codemirror_mode": {
    "name": "ipython",
    "version": 3
   },
   "file_extension": ".py",
   "mimetype": "text/x-python",
   "name": "python",
   "nbconvert_exporter": "python",
   "pygments_lexer": "ipython3",
   "version": "3.8.10"
  }
 },
 "nbformat": 4,
 "nbformat_minor": 5
}
